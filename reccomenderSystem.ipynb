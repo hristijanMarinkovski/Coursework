{
 "cells": [
  {
   "cell_type": "markdown",
   "metadata": {},
   "source": [
    "# Implementation of reccomender system algorithms in Python\n",
    "\n",
    "#### Hey there! This is coursework completed for Decision Support Systems elective, written by Hristijan Marinkovski. \n",
    "#### It entails different algorithms used by reccomender systems and their implementation using Python. We use the movielens dataset for testing, which can be found in the repository you found this code on.\n",
    "#### This project got 100/100 points."
   ]
  },
  {
   "cell_type": "code",
   "execution_count": 19,
   "metadata": {},
   "outputs": [],
   "source": [
    "import pandas as pd\n",
    "from datetime import date\n",
    "import datetime\n",
    "import numpy as np\n",
    "import math\n",
    "from sklearn.metrics.pairwise import cosine_similarity"
   ]
  },
  {
   "cell_type": "markdown",
   "metadata": {},
   "source": [
    "# Reading number of ratings"
   ]
  },
  {
   "cell_type": "code",
   "execution_count": 5,
   "metadata": {},
   "outputs": [],
   "source": [
    "class UserItemData():\n",
    "    def __init__(self, path, start_date=\"1.1.1900\", end_date=\"28.12.2100\", min_ratings = 0):\n",
    "        self.data = pd.read_table(path,encoding = \"ISO-8859-1\")\n",
    "        \n",
    "        \n",
    "        startdatearray = start_date.split(\".\")\n",
    "        enddatearray = end_date.split(\".\")\n",
    "        self.startdate = datetime.datetime(int(startdatearray[2]),int(startdatearray[1]),int(startdatearray[0]))\n",
    "        self.enddate = datetime.datetime(int(enddatearray[2]),int(enddatearray[1]),int(enddatearray[0]))\n",
    "        \n",
    "        self.data['date'] = pd.to_datetime([f'{y}-{m}-{d}' for y, m, d in zip(self.data.date_year, self.data.date_month, self.data.date_day)])\n",
    "        self.data = self.data[(self.data.date >= self.startdate) & (self.data.date < self.enddate)]\n",
    "        \n",
    "        self.data = self.data.groupby(\"movieID\").filter(lambda x: len(x) > min_ratings)\n",
    "        \n",
    "    def nratings(self):\n",
    "        rows = len(self.data.index,)\n",
    "        return rows\n",
    "\n"
   ]
  },
  {
   "cell_type": "code",
   "execution_count": 7,
   "metadata": {
    "scrolled": false
   },
   "outputs": [
    {
     "name": "stdout",
     "output_type": "stream",
     "text": [
      "97681\n"
     ]
    }
   ],
   "source": [
    "uim = UserItemData('C:/Users/user/Desktop/movielens/user_ratedmovies.dat',min_ratings=1000)\n",
    "print(uim.nratings())\n",
    "#The path is local, please change it for testing. You can find the dataset in this repository :)\n"
   ]
  },
  {
   "cell_type": "markdown",
   "metadata": {},
   "source": [
    "# Reading movies"
   ]
  },
  {
   "cell_type": "code",
   "execution_count": 8,
   "metadata": {},
   "outputs": [],
   "source": [
    "class MovieData():\n",
    "    def __init__(self, path):\n",
    "        self.data = pd.read_table(path,encoding = \"ISO-8859-1\")\n",
    "\n",
    "    def get_title(self, movieID):\n",
    "        return self.data[self.data.id==movieID].title.tolist()[0]\n"
   ]
  },
  {
   "cell_type": "code",
   "execution_count": 9,
   "metadata": {},
   "outputs": [
    {
     "name": "stdout",
     "output_type": "stream",
     "text": [
      "Toy story\n"
     ]
    }
   ],
   "source": [
    "b = MovieData(\"C:/Users/user/Desktop/movielens/movies.dat\")\n",
    "print(b.get_title(1))\n"
   ]
  },
  {
   "cell_type": "markdown",
   "metadata": {},
   "source": [
    "# Random predictor\n"
   ]
  },
  {
   "cell_type": "code",
   "execution_count": 10,
   "metadata": {},
   "outputs": [],
   "source": [
    "import random\n",
    "class RandomPredictor():\n",
    "    def __init__(self,min,max):\n",
    "        self.min = min\n",
    "        self.max = max\n",
    "        \n",
    "    def fit(self,UIM):\n",
    "        self.data=UIM.data\n",
    "        movies=self.data.movieID.unique()\n",
    "        self.res = {}\n",
    "        for movie in movies:\n",
    "            rating = (random.randrange(self.min, self.max+1))\n",
    "            self.res[movie] = rating\n",
    "            \n",
    "    def predict(self,userID):\n",
    "        return self.res"
   ]
  },
  {
   "cell_type": "code",
   "execution_count": 11,
   "metadata": {
    "scrolled": true
   },
   "outputs": [
    {
     "name": "stdout",
     "output_type": "stream",
     "text": [
      "<class 'dict'>\n",
      "Movie: Toy story, score: 4\n",
      "Movie: Grumpy Old Men, score: 2\n",
      "Movie: Money Train, score: 2\n",
      "Movie: The Usual Suspects, score: 2\n",
      "Movie: City Hall, score: 4\n"
     ]
    }
   ],
   "source": [
    "md = MovieData('C:/Users/user/Desktop/movielens/movies.dat')\n",
    "uim = UserItemData('C:/Users/user/Desktop/movielens/user_ratedmovies.dat') \n",
    "rp = RandomPredictor(1, 5) \n",
    "rp.fit(uim) \n",
    "pred = rp.predict(78)\n",
    "print(type(pred)) \n",
    "\n",
    "\n",
    "items = [1, 3, 20, 50, 100] \n",
    "for item in items: \n",
    "    print(\"Movie: {}, score: {}\".format(md.get_title(item), pred[item]))"
   ]
  },
  {
   "cell_type": "markdown",
   "metadata": {},
   "source": [
    "# Reccomender with basic evaluator"
   ]
  },
  {
   "cell_type": "code",
   "execution_count": 14,
   "metadata": {},
   "outputs": [],
   "source": [
    "class Recommender():\n",
    "    def __init__(self,pred):\n",
    "        self.pred = pred\n",
    "    \n",
    "    def fit(self,x):\n",
    "        self.pred.fit(x)\n",
    "        \n",
    "    def recommend(self,userID,n=10,rec_seen=True):\n",
    "       \n",
    "        ratings = self.pred.predict(userID)\n",
    "        ratings = sorted(ratings.items(), key=lambda x: x[1], reverse=True)#this sorts them\n",
    "        if(rec_seen==False):\n",
    "            seen = set(self.pred.data[(self.pred.data.userID == userID)].movieID.unique()) # movies that user has seen\n",
    "            ratings = [t for t in ratings if t[0] not in seen] #we make a new dict with movies he hasnt seen\n",
    "            \n",
    "        return ratings[:n]\n",
    "    \n",
    "    def evaluate(self,accurate_data,predicted_data):\n",
    "   \n",
    "        hits = 0\n",
    "        for acc in accurate_data:\n",
    "            for pred in predicted_data:\n",
    "                if acc[0]==pred[0] and acc[1]==pred[1]:\n",
    "                    hits = hits +1 # now we have the number of hits\n",
    "\n",
    "        maetop = 0\n",
    "        for acc in accurate_data:\n",
    "            for pred in predicted_data:\n",
    "                if acc[0]==pred[0]:\n",
    "                    maetop = maetop + abs(pred[1]-acc[1])\n",
    "                    \n",
    "        mae = maetop / len(accurate_data)\n",
    "\n",
    "        rmsetop = 0\n",
    "        for acc in accurate_data:\n",
    "            for pred in predicted_data:\n",
    "                if acc[0]==pred[0]:\n",
    "                    rmsetop = maetop + (abs(pred[1]-acc[1])**2)\n",
    "        \n",
    "        rmse = math.sqrt(rmsetop/len(accurate_data))\n",
    "       \n",
    "        percision = hits/len(predicted_data) \n",
    "        recall = hits/len(accurate_data)\n",
    "        f1 = (2 * percision * recall)/(percision + recall)\n",
    "        \n",
    "        return mae,rmse,percision,recall,f1\n",
    "        "
   ]
  },
  {
   "cell_type": "code",
   "execution_count": 260,
   "metadata": {},
   "outputs": [
    {
     "data": {
      "text/plain": [
       "(1.125, 1.1858541225631423, 0.375, 0.375, 0.375)"
      ]
     },
     "execution_count": 260,
     "metadata": {},
     "output_type": "execute_result"
    }
   ],
   "source": [
    "md = MovieData('C:/Users/user/Desktop/movielens/movies.dat')\n",
    "uim = UserItemData('C:/Users/user/Desktop/movielens/user_ratedmovies.dat', min_ratings=1000, end_date='1.1.2008')\n",
    "rp = RandomPredictor(1,5)\n",
    "rec = Recommender(rp)\n",
    "\n",
    "acc = [(203,4),(111,5),(3512,3.5),(161,2),(1211,4),(621,3),(181,5),(1665,1)]\n",
    "pred = [(203,4),(111,1),(3512,3.5),(161,4),(1211,3.5),(621,2),(181,5),(1665,2.5)]\n",
    "rec.evaluate(acc,pred)\n"
   ]
  },
  {
   "cell_type": "markdown",
   "metadata": {},
   "source": [
    "# Average predictor"
   ]
  },
  {
   "cell_type": "code",
   "execution_count": 12,
   "metadata": {},
   "outputs": [],
   "source": [
    "class AveragePredictor():\n",
    "    def __init__(self,b):\n",
    "        self.b = b\n",
    "    \n",
    "    def fit(self,UIM):\n",
    "        self.data = UIM.data\n",
    "        \n",
    "        g_avg = self.data.rating.mean()\n",
    "        \n",
    "        movies=self.data.movieID.unique()\n",
    "        moviecounts = self.data.movieID.value_counts()\n",
    "        self.res = {}\n",
    "        for movie in movies:\n",
    "            n = (self.data.loc[self.data.movieID == movie].count()[1])\n",
    "            vs = self.data[self.data.movieID==movie].rating.sum()\n",
    "            rating = (vs + self.b * g_avg) / (n + self.b)\n",
    "            self.res[movie] = rating\n",
    "        \n",
    "    def predict(self,userID):\n",
    "        return self.res\n",
    "\n",
    "        "
   ]
  },
  {
   "cell_type": "code",
   "execution_count": 15,
   "metadata": {
    "scrolled": true
   },
   "outputs": [
    {
     "name": "stdout",
     "output_type": "stream",
     "text": [
      "Movie: The Usual Suspects, score: 4.225944245560473\n",
      "Movie: The Godfather: Part II, score: 4.146907937910189\n",
      "Movie: Cidade de Deus, score: 4.116538340205236\n",
      "Movie: The Dark Knight, score: 4.10413904093503\n",
      "Movie: 12 Angry Men, score: 4.103639627096175\n"
     ]
    }
   ],
   "source": [
    "md = MovieData('C:/Users/user/Desktop/movielens/movies.dat') \n",
    "uim = UserItemData('C:/Users/user/Desktop/movielens/user_ratedmovies.dat') \n",
    "rp = AveragePredictor(100) \n",
    "rec = Recommender(rp) \n",
    "rec.fit(uim) \n",
    "rec_items = rec.recommend(78, n=5, rec_seen=False)\n",
    "for idmovie, val in rec_items: \n",
    "   print(\"Movie: {}, score: {}\".format(md.get_title(idmovie), val)) \n"
   ]
  },
  {
   "cell_type": "markdown",
   "metadata": {},
   "source": [
    "# Prediction by view count"
   ]
  },
  {
   "cell_type": "code",
   "execution_count": 16,
   "metadata": {},
   "outputs": [],
   "source": [
    "class ViewsPredictor():\n",
    "    def fit(self,UIM):\n",
    "        self.data=UIM.data\n",
    "        movies=self.data.movieID.unique()\n",
    "        self.res = {}\n",
    "        for movie in movies:\n",
    "            rating = self.data.loc[self.data.movieID == movie].count()[1]\n",
    "            self.res[movie] = rating\n",
    "        \n",
    "    def predict(self,userID):\n",
    "        return self.res\n",
    "        "
   ]
  },
  {
   "cell_type": "code",
   "execution_count": 17,
   "metadata": {},
   "outputs": [
    {
     "name": "stdout",
     "output_type": "stream",
     "text": [
      "Movie: The Lord of the Rings: The Fellowship of the Ring, score: 1576\n",
      "Movie: The Lord of the Rings: The Two Towers, score: 1528\n",
      "Movie: The Lord of the Rings: The Return of the King, score: 1457\n",
      "Movie: The Silence of the Lambs, score: 1431\n",
      "Movie: Shrek, score: 1404\n"
     ]
    }
   ],
   "source": [
    "md = MovieData('C:/Users/user/Desktop/movielens/movies.dat') \n",
    "uim = UserItemData('C:/Users/user/Desktop/movielens/user_ratedmovies.dat') \n",
    "rp = ViewsPredictor() \n",
    "rec = Recommender(rp) \n",
    "rec.fit(uim) \n",
    "rec_items = rec.recommend(78, n=5, rec_seen=False)\n",
    "\n",
    "for idmovie, val in rec_items: \n",
    "    print(\"Movie: {}, score: {}\".format(md.get_title(idmovie), val)) "
   ]
  },
  {
   "cell_type": "markdown",
   "metadata": {},
   "source": [
    "# Item based predictor\n",
    "\n",
    "### _This class and its algorithms are accurate but inneficient*_"
   ]
  },
  {
   "cell_type": "code",
   "execution_count": 40,
   "metadata": {},
   "outputs": [],
   "source": [
    "class ItemBasedPredictor:\n",
    "    def __init__ (self,min_values=0,threshhold=0):\n",
    "        self.min_values=min_values\n",
    "        self.threshhold=threshhold\n",
    "\n",
    "        self.k=1\n",
    "    \n",
    "        \n",
    "    def similarItems(self,item,n): \n",
    "        movies=self.data[self.data.movieID != item].movieID.unique() # movies without our item\n",
    "        itemSims = {}\n",
    "        for movie in movies:\n",
    "            rating = self.sims[item,movie]\n",
    "            itemSims[movie] = rating# this gives us similarities for our item and all other movies\n",
    "            \n",
    "        itemSims = sorted(itemSims.items(), key=lambda x: x[1], reverse=True)#this sorts them\n",
    "        # now we just sort them and give top n\n",
    "        \n",
    "        return itemSims[:n]\n",
    "        \n",
    "        \n",
    "    def fit(self,UID):\n",
    "        self.data = UID.data # just the data\n",
    "        self.avgratings = self.data.groupby([\"userID\"]).agg({\"rating\" : [\"mean\"]})\n",
    "        self.movies=self.data.movieID.unique() ## every unique movie\n",
    "        \n",
    "        self.sims = {} ## this contains all similarities, just do self.sims[movie1,movie2] and you get the sim\n",
    "        #calculate all similarities\n",
    "        for movie1 in self.movies:\n",
    "            for movie2 in self.movies:\n",
    "                if (movie2,movie1) in self.sims: # if the already calculated the similarity between the movies\n",
    "                     continue # we already have it\n",
    "                    \n",
    "                else: #we need to calculate it\n",
    "                    sim = self.similarity(movie1,movie2)\n",
    "                    self.sims[movie1,movie2] = sim\n",
    "                    self.sims[movie2,movie1] = sim\n",
    "    \n",
    "    def predict(self,userID): \n",
    "        self.predictions = {}\n",
    "        \n",
    "        movies_for_user = self.data[self.data.userID==userID].movieID.unique()\n",
    "        \n",
    "        top_sum = 0\n",
    "        bot_sum = 0\n",
    "        top_val = 0\n",
    "        bot_val = 0\n",
    "        \n",
    "        for movie1 in self.movies: \n",
    "            for movie2 in movies_for_user: #for each movie, we need sim with others\n",
    "                \n",
    "                if(movie1!=movie2):\n",
    "                 \n",
    "                \n",
    "                    \n",
    "                    rating_i = self.data[(self.data['userID'] == userID) & (self.data['movieID'] == movie2)].rating.values[0] ## what if the movie isnt rated...\n",
    "                    top_val = self.sims[movie1,movie2] * rating_i\n",
    "                    bot_val = self.sims[movie1,movie2]\n",
    "                    \n",
    "                    top_sum = top_sum + top_val\n",
    "                    bot_sum = bot_sum + bot_val\n",
    "                else:\n",
    "                    continue\n",
    "            \n",
    "            self.predictions[movie1] = top_sum / bot_sum\n",
    "            \n",
    "        \n",
    "        return self.predictions\n",
    "    \n",
    "    \n",
    "    def similarity(self,p1,p2):\n",
    "        \n",
    "        set1 = set(self.data[self.data.movieID==p1].userID.to_numpy()) # users that rated p1\n",
    "        set2 = set(self.data[self.data.movieID==p2].userID.to_numpy()) # users that rated p2\n",
    "        set3 = set1.intersection(set2) # users that rated both\n",
    "        \n",
    "        if(len(set3)==0):\n",
    "            return 0\n",
    "        \n",
    "        users_ratings=self.data[((self.data['movieID']==p1) | (self.data['movieID']==p2)) & (self.data['userID'].isin(set3))][[\"userID\",\"rating\",\"movieID\"]]\n",
    "        top_sum = 0\n",
    "        bot_sum_1 = 0\n",
    "        bot_sum_2 = 0\n",
    "        \n",
    "        \n",
    "        \n",
    "        for user in set3: # for each user that rated both movies, this is slow because im searching the data so much..matrices might be faster\n",
    "            avg = self.avgratings.loc[user ,'rating'].values[0] #this is his average rating for movies in general\n",
    "            rating_a = users_ratings[(users_ratings['userID'] == user) & (users_ratings['movieID'] == p1)].rating.values[0]#rating for movie a for this user\n",
    "            rating_b = users_ratings[(users_ratings['userID'] == user) & (users_ratings['movieID'] == p2)].rating.values[0]#rating for movie b by this user\n",
    "            \n",
    "            top_sum = top_sum + (rating_a - avg)*(rating_b - avg)\n",
    "            bot_sum_1 = bot_sum_1 + (rating_a - avg)**2\n",
    "            bot_sum_2 = bot_sum_2 + (rating_b - avg)**2\n",
    "            \n",
    "        \n",
    "        sim = (top_sum)/( math.sqrt(bot_sum_1) * math.sqrt(bot_sum_2) )\n",
    "        \n",
    "       \n",
    "        if sim < self.threshhold or len(set3) < self.min_values:\n",
    "            sim = 0.0\n",
    "            \n",
    "            \n",
    "        return round(sim,12) "
   ]
  },
  {
   "cell_type": "code",
   "execution_count": 39,
   "metadata": {
    "scrolled": true
   },
   "outputs": [
    {
     "name": "stdout",
     "output_type": "stream",
     "text": [
      "Similarity between the movies 'Men in black'(1580) and 'Ghostbusters'(2716):  0\n",
      "Similarity between the movies 'Men in black'(1580) and 'Schindler's List'(527):  0\n",
      "Similarity between the movies 'Men in black'(1580) and 'Independence day'(780):  0\n"
     ]
    }
   ],
   "source": [
    "md = MovieData('C:/Users/user/Desktop/movielens/movies.dat')\n",
    "uim = UserItemData('C:/Users/user/Desktop/movielens/user_ratedmovies.dat', min_ratings=1400)\n",
    "rp = ItemBasedPredictor()\n",
    "rec = Recommender(rp)\n",
    "rec.fit(uim)\n",
    "\n",
    "print(\"Similarity between the movies 'Men in black'(1580) and 'Ghostbusters'(2716): \", rp.similarity(1580, 2716))\n",
    "print(\"Similarity between the movies 'Men in black'(1580) and 'Schindler's List'(527): \", rp.similarity(1580, 527))\n",
    "print(\"Similarity between the movies 'Men in black'(1580) and 'Independence day'(780): \", rp.similarity(1580, 780))"
   ]
  },
  {
   "cell_type": "markdown",
   "metadata": {},
   "source": [
    "# Finding most similar movies"
   ]
  },
  {
   "cell_type": "code",
   "execution_count": 22,
   "metadata": {},
   "outputs": [],
   "source": [
    "class MostSimilarMovies:\n",
    "    def __init__(self,pred,UIM):\n",
    "        self.pred = pred\n",
    "        self.data = UIM.data\n",
    "        \n",
    "    def list(self,n):\n",
    "        #brute force all combinations of movies and list top 20\n",
    "        movies=self.data.movieID.unique()\n",
    "          \n",
    "        res = {}\n",
    "        \n",
    "        for movie1 in movies:\n",
    "            for movie2 in movies:\n",
    "                if movie1 == movie2:\n",
    "                    continue\n",
    "                else:\n",
    "                        \n",
    "                    if (movie2,movie1) in res:\n",
    "                        continue\n",
    "                    \n",
    "                    sim = self.pred.similarity(movie1,movie2)\n",
    "                    \n",
    "                    if(len(res) < n):\n",
    "                        res[movie1,movie2] = sim\n",
    "                    elif(sim > res[min(res, key=res.get)]):\n",
    "                        del res[min(res, key=res.get)]\n",
    "                        res[movie1,movie2] = sim\n",
    "        res = sorted(res.items(), key=lambda x: x[1], reverse=True)              \n",
    "        return res"
   ]
  },
  {
   "cell_type": "code",
   "execution_count": 23,
   "metadata": {},
   "outputs": [
    {
     "name": "stdout",
     "output_type": "stream",
     "text": [
      "[((5952, 7153), 0.747020840907), ((4993, 5952), 0.713724352718), ((4993, 7153), 0.679739756693), ((296, 2959), 0.274200954372), ((480, 4306), 0.163197513395), ((296, 593), 0.159135896609), ((356, 480), 0.130649301302), ((2959, 2858), 0.124155927829), ((296, 2858), 0.118136176191), ((296, 318), 0.112291526434), ((2571, 2959), 0.110653355659), ((318, 2858), 0.102585508099), ((356, 4306), 0.069472173331), ((318, 593), 0.063795586248), ((318, 356), 0.053710973225), ((2858, 593), 0.045424475165), ((2959, 593), 0.017145449612), ((2571, 480), 0.0), ((2571, 2858), 0.0), ((2571, 4306), 0.0)]\n"
     ]
    }
   ],
   "source": [
    "pred = ItemBasedPredictor()\n",
    "uim = UserItemData('C:/Users/user/Desktop/movielens/user_ratedmovies.dat', min_ratings=1400)\n",
    "pred.fit(uim)\n",
    "msm = MostSimilarMovies(pred,uim)\n",
    "\n",
    "topn = msm.list(20)# works\n",
    "print(topn)"
   ]
  },
  {
   "cell_type": "markdown",
   "metadata": {
    "scrolled": false
   },
   "source": [
    "# Slope one predictor"
   ]
  },
  {
   "cell_type": "code",
   "execution_count": 26,
   "metadata": {},
   "outputs": [],
   "source": [
    "class SlopeOnePredictor():\n",
    "        \n",
    "    def fit(self,uim):\n",
    "        self.data = uim.data#data\n",
    "        self.movies = self.data.movieID.unique()# movies\n",
    "        \n",
    "    def predict(self,user):\n",
    "        results = {}\n",
    "        for item in self.movies:\n",
    "            results[item] = self.predict1(item,user) ##### WHY\n",
    "            \n",
    "        return results\n",
    "        \n",
    "    def predict1(self,item,user):\n",
    "        \n",
    "        values = {}\n",
    "        counts = {}\n",
    "        \n",
    "        top_sum = 0\n",
    "        bot_sum = 0\n",
    "        res ={}\n",
    "        \n",
    "        \n",
    "        for movie1 in self.movies: # we will compare with each movie\n",
    "            if movie1 == item: # if its the same, just skip it, no point comparing the same items\n",
    "                continue         \n",
    "            else:\n",
    "                set1 = set(self.data[self.data.movieID==item].userID.to_numpy()) # users that rated our item\n",
    "                set2 = set(self.data[self.data.movieID==movie1].userID.to_numpy()) # users that rated this movie\n",
    "                set3 = set1.intersection(set2) # users that rated both\n",
    "                if not user in (set2):\n",
    "                    continue\n",
    "                elif len(set3) ==0:\n",
    "                    continue\n",
    "                else:\n",
    "                #get rating for each userID of item and movie\n",
    "                    ratingsformov = self.data[(self.data['userID'].isin(set3)) & (self.data['movieID']==movie1)].rating.to_numpy()\n",
    "                    ratingsforitem = self.data[(self.data['userID'].isin(set3)) & (self.data['movieID']==item)].rating.to_numpy()\n",
    "                    result = np.mean(ratingsforitem - ratingsformov) \n",
    "                    alicerating = self.data[(self.data['userID']==user) & (self.data['movieID']==movie1)].rating.values[0]\n",
    "                    result = alicerating + result # final result after adding users rating to mean of other users\n",
    "                    count = len(set3)\n",
    "\n",
    "            top_sum = top_sum + result*count\n",
    "            bot_sum = bot_sum + count\n",
    "        \n",
    "        res = top_sum/bot_sum\n",
    "        if(res>5):\n",
    "            res = 5.0\n",
    "        \n",
    "        return res"
   ]
  },
  {
   "cell_type": "code",
   "execution_count": 29,
   "metadata": {
    "scrolled": true
   },
   "outputs": [
    {
     "name": "stdout",
     "output_type": "stream",
     "text": [
      "Predictions for 78: \n",
      "Movie: The Usual Suspects, score: 4.325079182263173\n",
      "Movie: The Lord of the Rings: The Fellowship of the Ring, score: 4.155293229840448\n",
      "Movie: The Lord of the Rings: The Return of the King, score: 4.153135076202185\n",
      "Movie: The Silence of the Lambs, score: 4.127978169643881\n",
      "Movie: Shichinin no samurai, score: 4.119790444913598\n",
      "Movie: The Lord of the Rings: The Two Towers, score: 4.083325894849594\n",
      "Movie: Indiana Jones and the Last Crusade, score: 3.9670398355464194\n",
      "Movie: The Incredibles, score: 3.9664496674557546\n",
      "Movie: Good Will Hunting, score: 3.963362387354114\n",
      "Movie: Sin City, score: 3.942619137615212\n",
      "Movie: Batman Begins, score: 3.9375326640077017\n",
      "Movie: A Beautiful Mind, score: 3.9140940935239508\n",
      "Movie: Rain Man, score: 3.9107819079644943\n",
      "Movie: Monsters, Inc., score: 3.8819375978658006\n",
      "Movie: Finding Nemo, score: 3.8807711131654794\n"
     ]
    }
   ],
   "source": [
    "md = MovieData('C:/Users/user/Desktop/movielens/movies.dat') \n",
    "uim = UserItemData('C:/Users/user/Desktop/movielens/user_ratedmovies.dat',min_ratings=1000) \n",
    "rp = SlopeOnePredictor() \n",
    "rec = Recommender(rp) \n",
    "rec.fit(uim)\n",
    "\n",
    "print(\"Predictions for 78: \") \n",
    "rec_items = rec.recommend(78, n=15, rec_seen=False) \n",
    "for idmovie, val in rec_items:\n",
    "    print(\"Movie: {}, score: {}\".format(md.get_title(idmovie), val))"
   ]
  },
  {
   "cell_type": "markdown",
   "metadata": {},
   "source": [
    "# Some additional testing"
   ]
  },
  {
   "cell_type": "code",
   "execution_count": 28,
   "metadata": {},
   "outputs": [
    {
     "name": "stdout",
     "output_type": "stream",
     "text": [
      "Predictions for me: \n",
      "Movie: Fight Club, score: 5.0\n",
      "Movie: The Shawshank Redemption, score: 5.0\n",
      "Movie: American Beauty, score: 4.946802935010482\n",
      "Movie: The Lord of the Rings: The Return of the King, score: 4.9148148148148145\n",
      "Movie: The Silence of the Lambs, score: 4.892006352567496\n",
      "Movie: The Lord of the Rings: The Two Towers, score: 4.859896856581533\n",
      "Movie: Forrest Gump, score: 4.759610645638245\n",
      "Movie: Shrek, score: 4.624180327868852\n",
      "Movie: Jurassic Park, score: 4.262059973924381\n"
     ]
    }
   ],
   "source": [
    "md = MovieData('C:/Users/user/Desktop/movielens/movies.dat')\n",
    "uim = UserItemData('C:/Users/user/Desktop/movielens/user_ratedmovies.dat', min_ratings=1400)\n",
    "# add 20 ratings to uim for user 10101(me)\n",
    "new_row = {'userID':10101, 'movieID':296, 'rating':5.0, 'date_day':1, 'date_month':1, 'date_year':2020, 'date_hour':1, 'date_minute':1, 'date_second':1, 'date':datetime.datetime(2020,1,1)}     \n",
    "uim.data = uim.data.append(new_row, ignore_index=True)\n",
    "\n",
    "new_row = {'userID':10101, 'movieID':2571, 'rating':5.0, 'date_day':1, 'date_month':1, 'date_year':2020, 'date_hour':1, 'date_minute':1, 'date_second':1, 'date':datetime.datetime(2020,1,1)}     \n",
    "uim.data = uim.data.append(new_row, ignore_index=True)\n",
    "\n",
    "new_row = {'userID':10101, 'movieID':4993, 'rating':5.0, 'date_day':1, 'date_month':1, 'date_year':2020, 'date_hour':1, 'date_minute':1, 'date_second':1, 'date':datetime.datetime(2020,1,1)}     \n",
    "uim.data = uim.data.append(new_row, ignore_index=True)\n",
    "\n",
    "rp = SlopeOnePredictor()\n",
    "rec = Recommender(rp)\n",
    "rec.fit(uim)\n",
    "\n",
    "print(\"Predictions for me: \")\n",
    "rec_items = rec.recommend(10101, n=10, rec_seen=False)\n",
    "for idmovie, val in rec_items:\n",
    "    print(\"Movie: {}, score: {}\".format(md.get_title(idmovie), val))"
   ]
  }
 ],
 "metadata": {
  "kernelspec": {
   "display_name": "Python 3",
   "language": "python",
   "name": "python3"
  },
  "language_info": {
   "codemirror_mode": {
    "name": "ipython",
    "version": 3
   },
   "file_extension": ".py",
   "mimetype": "text/x-python",
   "name": "python",
   "nbconvert_exporter": "python",
   "pygments_lexer": "ipython3",
   "version": "3.8.3"
  }
 },
 "nbformat": 4,
 "nbformat_minor": 4
}
